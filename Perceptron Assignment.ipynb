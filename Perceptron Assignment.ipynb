{
 "cells": [
  {
   "cell_type": "markdown",
   "metadata": {},
   "source": [
    "# Perceptron Implementation in Python"
   ]
  },
  {
   "cell_type": "code",
   "execution_count": 1,
   "metadata": {},
   "outputs": [],
   "source": [
    "import numpy as np"
   ]
  },
  {
   "cell_type": "code",
   "execution_count": 2,
   "metadata": {},
   "outputs": [],
   "source": [
    "def sigmoid(x):\n",
    "    return 1/(1*np.exp(-x))"
   ]
  },
  {
   "cell_type": "code",
   "execution_count": 3,
   "metadata": {},
   "outputs": [],
   "source": [
    "def sigmoid_derivative(x):\n",
    "    return x*(1-x)"
   ]
  },
  {
   "cell_type": "code",
   "execution_count": 4,
   "metadata": {},
   "outputs": [
    {
     "data": {
      "text/plain": [
       "array([[0.25 , 0.353],\n",
       "       [0.25 , 0.471],\n",
       "       [0.5  , 0.353],\n",
       "       [0.5  , 0.647],\n",
       "       [0.75 , 0.705],\n",
       "       [0.75 , 0.882],\n",
       "       [1.   , 0.705],\n",
       "       [1.   , 1.   ]])"
      ]
     },
     "execution_count": 4,
     "metadata": {},
     "output_type": "execute_result"
    }
   ],
   "source": [
    "training_inputs = np.array([[0.25,0.353],\n",
    "                            [0.25,0.471],\n",
    "                            [0.5,0.353],\n",
    "                            [0.5,0.647],\n",
    "                            [0.75,0.705],\n",
    "                            [0.75,0.882],\n",
    "                            [1,0.705],\n",
    "                            [1,1]])\n",
    "training_inputs"
   ]
  },
  {
   "cell_type": "code",
   "execution_count": 5,
   "metadata": {},
   "outputs": [
    {
     "data": {
      "text/plain": [
       "array([[0],\n",
       "       [1],\n",
       "       [0],\n",
       "       [1],\n",
       "       [0],\n",
       "       [1],\n",
       "       [0],\n",
       "       [1]])"
      ]
     },
     "execution_count": 5,
     "metadata": {},
     "output_type": "execute_result"
    }
   ],
   "source": [
    "training_outputs = np.array([[0,1,0,1,0,1,0,1]]).T\n",
    "training_outputs"
   ]
  },
  {
   "cell_type": "code",
   "execution_count": 6,
   "metadata": {},
   "outputs": [],
   "source": [
    "np.random.seed(1)"
   ]
  },
  {
   "cell_type": "code",
   "execution_count": 7,
   "metadata": {},
   "outputs": [],
   "source": [
    "synaptic_weights = 2*np.random.random((2,1))-1"
   ]
  },
  {
   "cell_type": "code",
   "execution_count": 8,
   "metadata": {},
   "outputs": [
    {
     "name": "stdout",
     "output_type": "stream",
     "text": [
      "Random starting synaptic weights: \n",
      "[[-0.16595599]\n",
      " [ 0.44064899]]\n"
     ]
    }
   ],
   "source": [
    "print(\"Random starting synaptic weights: \")\n",
    "print(synaptic_weights)"
   ]
  },
  {
   "cell_type": "code",
   "execution_count": 9,
   "metadata": {},
   "outputs": [],
   "source": [
    "for iteration in range(1):\n",
    "    input_layer = training_inputs\n",
    "    outputs = sigmoid(np.dot(input_layer, synaptic_weights))"
   ]
  },
  {
   "cell_type": "code",
   "execution_count": 10,
   "metadata": {},
   "outputs": [
    {
     "data": {
      "text/plain": [
       "array([[-1.12081948],\n",
       "       [-0.18064001],\n",
       "       [-1.07526925],\n",
       "       [-0.2239972 ],\n",
       "       [-1.20465178],\n",
       "       [-0.30236965],\n",
       "       [-1.1556946 ],\n",
       "       [-0.31612656]])"
      ]
     },
     "execution_count": 10,
     "metadata": {},
     "output_type": "execute_result"
    }
   ],
   "source": [
    "error = training_outputs - outputs\n",
    "error"
   ]
  },
  {
   "cell_type": "code",
   "execution_count": 11,
   "metadata": {},
   "outputs": [],
   "source": [
    "adjustments = error*sigmoid_derivative(outputs)\n",
    "synaptic_weights += np.dot(input_layer.T, adjustments)"
   ]
  },
  {
   "cell_type": "code",
   "execution_count": 12,
   "metadata": {},
   "outputs": [
    {
     "name": "stdout",
     "output_type": "stream",
     "text": [
      "Synaptic weights after training: \n",
      "[[0.60736379]\n",
      " [1.1753586 ]]\n"
     ]
    }
   ],
   "source": [
    "print(\"Synaptic weights after training: \")\n",
    "print(synaptic_weights)"
   ]
  },
  {
   "cell_type": "code",
   "execution_count": 13,
   "metadata": {},
   "outputs": [
    {
     "name": "stdout",
     "output_type": "stream",
     "text": [
      "Outputs after training: \n",
      "[[1.12081948]\n",
      " [1.18064001]\n",
      " [1.07526925]\n",
      " [1.2239972 ]\n",
      " [1.20465178]\n",
      " [1.30236965]\n",
      " [1.1556946 ]\n",
      " [1.31612656]]\n"
     ]
    }
   ],
   "source": [
    "print(\"Outputs after training: \")\n",
    "print(outputs)"
   ]
  },
  {
   "cell_type": "code",
   "execution_count": null,
   "metadata": {},
   "outputs": [],
   "source": []
  }
 ],
 "metadata": {
  "kernelspec": {
   "display_name": "Python 3.8.0 32-bit",
   "language": "python",
   "name": "python38032bitc426e7d7112f4aeeb60bdacb311a1420"
  },
  "language_info": {
   "codemirror_mode": {
    "name": "ipython",
    "version": 3
   },
   "file_extension": ".py",
   "mimetype": "text/x-python",
   "name": "python",
   "nbconvert_exporter": "python",
   "pygments_lexer": "ipython3",
   "version": "3.8.0"
  }
 },
 "nbformat": 4,
 "nbformat_minor": 4
}
